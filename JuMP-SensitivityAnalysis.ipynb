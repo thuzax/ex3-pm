{
 "cells": [
  {
   "cell_type": "markdown",
   "metadata": {},
   "source": [
    "**Description**: Shows how to implement sensitivity analysis in JuMP.\n",
    "\n",
    "**Author**: Jack Dunn\n",
    "\n",
    "**License**: <a rel=\"license\" href=\"http://creativecommons.org/licenses/by-sa/4.0/\"><img alt=\"Creative Commons License\" style=\"border-width:0\" src=\"https://i.creativecommons.org/l/by-sa/4.0/88x31.png\" /></a><br />This work is licensed under a <a rel=\"license\" href=\"http://creativecommons.org/licenses/by-sa/4.0/\">Creative Commons Attribution-ShareAlike 4.0 International License</a>."
   ]
  },
  {
   "cell_type": "markdown",
   "metadata": {},
   "source": [
    "## Sensitivity Analysis using JuMP\n",
    "\n",
    "In this notebook, we will see how to use JuMP to conduct sensitivity analysis after solving a linear program and replicate the output offered by other packages (e.g. the Sensitivity Report in Excel Solver).\n",
    "\n",
    "We will consder a production planning problem by J E Beasley, made available on [OR-Notes](http://people.brunel.ac.uk/~mastjjb/jeb/or/lpsens_solver.html). \n",
    "\n",
    "### Problem Statement and Model Formulation\n",
    "\n",
    "(This section is reproduced exactly from the above link)\n",
    "\n",
    "A company manufactures four variants of the same product and in the final part of the manufacturing process there are assembly, polishing and packing operations. For each variant the time required for these operations is shown below (in minutes) as is the profit per unit sold.\n",
    "\n",
    "| Variant | Assembly | Polish | Pack | Profit |\n",
    "| :-----: | :------: | :----: | :--: | :----: |\n",
    "| 1       | 2        | 3      | 2    | 1.50   |\n",
    "| 2       | 4        | 2      | 3    | 2.50   |\n",
    "| 3       | 3        | 3      | 2    | 3.00   |\n",
    "| 4       | 7        | 4      | 5    | 4.50   |\n",
    "\n",
    "Given the current state of the labour force the company estimate that, each year, they have 100000 minutes of assembly time, 50000 minutes of polishing time and 60000 minutes of packing time available. How many of each variant should the company make per year and what is the associated profit?\n",
    "\n",
    "#### Variables\n",
    "\n",
    "Let $x_i \\geq 0$ be the number of units of variant i ($i=1,2,3,4$) made per year\n",
    "\n",
    "#### Constraints\n",
    "\n",
    "The operation time limits give the following constraints:\n",
    "\n",
    "- $2 x_1 + 4 x_2 + 3 x_3 + 7 x_4 \\leq 100000~~~$ (assembly) \n",
    "- $3 x_1 + 2 x_2 + 3 x_3 + 4 x_4 \\leq 50000~~~$ (polish) \n",
    "- $2 x_1 + 3 x_2 + 2 x_3 + 5 x_4 \\leq 60000~~~$ (pack)\n",
    "\n",
    "#### Objective\n",
    "\n",
    "Presumably to maximise profit - hence we have\n",
    "\n",
    "- $\\max 1.5 x_1 + 2.5 x_2 + 3.0 x_3 + 4.5 x_4$\n",
    "\n",
    "### Complete Formulation\n",
    "\n",
    "$$\\begin{align*}\n",
    "\\max~~~ &1.5 x_1 + 2.5 x_2 + 3.0 x_3 + 4.5 x_4 \\\\\n",
    "\\textrm{s.t.}~~~ &2 x_1 + 4 x_2 + 3 x_3 + 7 x_4 \\leq 100000 \\\\\n",
    "                 &3 x_1 + 2 x_2 + 3 x_3 + 4 x_4 \\leq 50000 \\\\\n",
    "                 &2 x_1 + 3 x_2 + 2 x_3 + 5 x_4 \\leq 60000 \\\\\n",
    "                 &x_i \\geq 0,~~~i = 1, 2, 3, 4\n",
    "\\end{align*}$$"
   ]
  },
  {
   "cell_type": "markdown",
   "metadata": {},
   "source": [
    "### Solving the model in JuMP\n",
    "\n",
    "Now we can formulate and solve this model in JuMP:"
   ]
  },
  {
   "cell_type": "code",
   "execution_count": 264,
   "metadata": {},
   "outputs": [
    {
     "name": "stdout",
     "output_type": "stream",
     "text": [
      "Academic license - for non-commercial use only\n",
      "Max 1.5 x[1] + 2.5 x[2] + 3 x[3] + 4.5 x[4]\n",
      "Subject to\n",
      " x[1] ≥ 0.0\n",
      " x[2] ≥ 0.0\n",
      " x[3] ≥ 0.0\n",
      " x[4] ≥ 0.0\n",
      " 2 x[1] + 4 x[2] + 3 x[3] + 7 x[4] ≤ 100000.0\n",
      " 3 x[1] + 2 x[2] + 3 x[3] + 4 x[4] ≤ 50000.0\n",
      " 2 x[1] + 3 x[2] + 2 x[3] + 5 x[4] ≤ 60000.0\n",
      "Academic license - for non-commercial use only\n",
      "Optimize a model with 3 rows, 4 columns and 12 nonzeros\n",
      "Coefficient statistics:\n",
      "  Matrix range     [2e+00, 7e+00]\n",
      "  Objective range  [2e+00, 4e+00]\n",
      "  Bounds range     [0e+00, 0e+00]\n",
      "  RHS range        [5e+04, 1e+05]\n",
      "Presolve time: 0.00s\n",
      "Presolved: 3 rows, 4 columns, 12 nonzeros\n",
      "\n",
      "Iteration    Objective       Primal Inf.    Dual Inf.      Time\n",
      "       0    1.4000000e+31   7.875000e+30   1.400000e+01      0s\n",
      "       2    5.8000000e+04   0.000000e+00   0.000000e+00      0s\n",
      "\n",
      "Solved in 2 iterations and 0.00 seconds\n",
      "Optimal objective  5.800000000e+04\n",
      "x1: 0.0\n",
      "x2: 16000.000000000002\n",
      "x3: 5999.999999999999\n",
      "x4: 0.0\n"
     ]
    }
   ],
   "source": [
    "# Define the data\n",
    "m = collect(1:3)\n",
    "n = collect(1:4)\n",
    "c = Dict(\n",
    "        n[1] => 1.5, \n",
    "        n[2] => 2.5, \n",
    "        n[3] => 3.0,\n",
    "        n[4] => 4.5\n",
    "    )\n",
    "A = Dict(\n",
    "        m[1] => [2, 4, 3, 7],\n",
    "        m[2] => [3, 2, 3, 4],\n",
    "        m[3] => [2, 3, 2, 5]\n",
    "    )\n",
    "b = Dict(\n",
    "        m[1] => 100000,\n",
    "        m[2] => 50000,\n",
    "        m[3] => 60000\n",
    "    )\n",
    "\n",
    "# Import necessary packages and define model\n",
    "using JuMP\n",
    "using Gurobi  # We need Gurobi for Sensitivity Analysis later\n",
    "model = Model(with_optimizer(Gurobi.Optimizer))\n",
    "\n",
    "# Define the variables\n",
    "@variable(model, x[n] >= 0)\n",
    "\n",
    "# Add the objective\n",
    "@objective(model, Max, sum(c[i] * x[i] for i in n))\n",
    "\n",
    "# Add the constraints row-by-row, naming them according to each resource\n",
    "# The names will allow us to refer to the constraints during sensitivity analysis\n",
    "@constraint(model, con[i in m], sum(A[i][j] * x[j] for j in n) <= b[i])\n",
    "# print(bombom)\n",
    "# Solve the model and show the optimal solution and objective value\n",
    "print(model)\n",
    "optimize!(model)\n",
    "\n",
    "for i in n\n",
    "    println(\"x\", i, \": \", JuMP.value(x[i]))\n",
    "end"
   ]
  },
  {
   "cell_type": "markdown",
   "metadata": {},
   "source": [
    "We see that the optimal production plan is to make 16000 units of variant 1 and 6000 units of variant 2, with an optimal profit of \\$58000"
   ]
  },
  {
   "cell_type": "markdown",
   "metadata": {},
   "source": [
    "### Sensitivity Analysis\n",
    "\n",
    "Once we have solved a model, it is often useful to analyze the sensitivity of the solution to the model parameters. Other modeling tools like Excel Solver can produce a Sensitivity Report, which summarizes all of the sensitivity information in one table. \n",
    "\n",
    "The Sensitivity Report produced for the production planning solution above is as follows (image from OR-Tools):\n",
    "\n",
    "![Sensitivity Report](https://i.imgur.com/6tYVVwH.gif)\n",
    "\n",
    "The table contains information on the shadow prices and reduced costs in the model, as well as the ranges on the cost coefficients and right-hand side values for which the current basis is optimal.\n",
    "\n",
    "We will now reproduce this table using our JuMP model\n",
    "\n",
    "#### Final Values\n",
    "\n",
    "We can get the final values of the variables with `getValue()` as before:"
   ]
  },
  {
   "cell_type": "code",
   "execution_count": 265,
   "metadata": {},
   "outputs": [
    {
     "name": "stdout",
     "output_type": "stream",
     "text": [
      "Any[0.0, 16000.0, 6000.0, 0.0]"
     ]
    }
   ],
   "source": [
    "x_final = []\n",
    "for i in n\n",
    "    append!(x_final, JuMP.value(x[i]))\n",
    "end\n",
    "print(x_final)"
   ]
  },
  {
   "cell_type": "markdown",
   "metadata": {},
   "source": [
    "We can get the final values of the constraints by calculating $Ax$:"
   ]
  },
  {
   "cell_type": "code",
   "execution_count": 266,
   "metadata": {},
   "outputs": [
    {
     "name": "stdout",
     "output_type": "stream",
     "text": [
      "Any[82000.0, 50000.0, 60000.0]"
     ]
    }
   ],
   "source": [
    "con_final = []\n",
    "for i in m\n",
    "    append!(con_final, sum((A[i][j] * x_final[j]) for j in n))\n",
    "end\n",
    "print(con_final)"
   ]
  },
  {
   "cell_type": "markdown",
   "metadata": {},
   "source": [
    "#### Reduced Costs/Shadow Prices\n",
    "\n",
    "We can extract the reduced costs by calling `getDual()` on the variables:"
   ]
  },
  {
   "cell_type": "code",
   "execution_count": 322,
   "metadata": {},
   "outputs": [
    {
     "name": "stdout",
     "output_type": "stream",
     "text": [
      "Max 1.5 x[1] + 2.5 x[2] + 3 x[3] + 4.5 x[4]\n",
      "Subject to\n",
      " x[1] ≥ 0.0\n",
      " x[2] ≥ 0.0\n",
      " x[3] ≥ 0.0\n",
      " x[4] ≥ 0.0\n",
      " 2 x[1] + 4 x[2] + 3 x[3] + 7 x[4] ≤ 100000.0\n",
      " 3 x[1] + 2 x[2] + 3 x[3] + 4 x[4] ≤ 50000.0\n",
      " 2 x[1] + 3 x[2] + 2 x[3] + 5 x[4] ≤ 60000.0\n",
      "\n"
     ]
    },
    {
     "ename": "MethodError",
     "evalue": "MethodError: no method matching dual(::Model)\nClosest candidates are:\n  dual(!Matched::ConstraintRef{Model,NonlinearConstraintIndex,Shape} where Shape<:AbstractShape) at /home/lcd/.julia/packages/JuMP/jnmGG/src/nlp.jl:162\n  dual(!Matched::ConstraintRef{Model,#s1044,Shape} where Shape<:AbstractShape where #s1044<:MathOptInterface.ConstraintIndex) at /home/lcd/.julia/packages/JuMP/jnmGG/src/constraints.jl:480",
     "output_type": "error",
     "traceback": [
      "MethodError: no method matching dual(::Model)\nClosest candidates are:\n  dual(!Matched::ConstraintRef{Model,NonlinearConstraintIndex,Shape} where Shape<:AbstractShape) at /home/lcd/.julia/packages/JuMP/jnmGG/src/nlp.jl:162\n  dual(!Matched::ConstraintRef{Model,#s1044,Shape} where Shape<:AbstractShape where #s1044<:MathOptInterface.ConstraintIndex) at /home/lcd/.julia/packages/JuMP/jnmGG/src/constraints.jl:480",
      "",
      "Stacktrace:",
      " [1] top-level scope at In[322]:5"
     ]
    }
   ],
   "source": [
    "#print(JuMP.dual())\n",
    "# JuMP.dual(model)\n",
    "# for i in m\n",
    "println(model)\n",
    "# end\n",
    "JuMP.dual(model)"
   ]
  },
  {
   "cell_type": "code",
   "execution_count": 268,
   "metadata": {},
   "outputs": [
    {
     "data": {
      "text/latex": [
       "con[3] : $ 2 x_{1} + 3 x_{2} + 2 x_{3} + 5 x_{4} \\leq 60000.0 $"
      ],
      "text/plain": [
       "con[3] : 2 x[1] + 3 x[2] + 2 x[3] + 5 x[4] ≤ 60000.0"
      ]
     },
     "execution_count": 268,
     "metadata": {},
     "output_type": "execute_result"
    }
   ],
   "source": [
    "assembly = con[1]\n",
    "polish = con[2]\n",
    "pack = con[3]"
   ]
  },
  {
   "cell_type": "markdown",
   "metadata": {},
   "source": [
    "JuMP 0.19 não calcula o dual\n"
   ]
  },
  {
   "cell_type": "markdown",
   "metadata": {},
   "source": [
    "Similarly, we can extract the shadow prices by using `getDual()` on our constraint references:"
   ]
  },
  {
   "cell_type": "code",
   "execution_count": 317,
   "metadata": {},
   "outputs": [
    {
     "data": {
      "text/plain": [
       "-0.0"
      ]
     },
     "execution_count": 317,
     "metadata": {},
     "output_type": "execute_result"
    }
   ],
   "source": [
    "JuMP.dual(assembly)"
   ]
  },
  {
   "cell_type": "code",
   "execution_count": 270,
   "metadata": {},
   "outputs": [
    {
     "data": {
      "text/plain": [
       "-0.8"
      ]
     },
     "execution_count": 270,
     "metadata": {},
     "output_type": "execute_result"
    }
   ],
   "source": [
    "JuMP.dual(polish)"
   ]
  },
  {
   "cell_type": "code",
   "execution_count": 271,
   "metadata": {},
   "outputs": [
    {
     "data": {
      "text/plain": [
       "-0.3"
      ]
     },
     "execution_count": 271,
     "metadata": {},
     "output_type": "execute_result"
    }
   ],
   "source": [
    "JuMP.dual(pack)"
   ]
  },
  {
   "cell_type": "markdown",
   "metadata": {},
   "source": [
    "We can put these together into a vector as well:"
   ]
  },
  {
   "cell_type": "code",
   "execution_count": 313,
   "metadata": {},
   "outputs": [
    {
     "ename": "MethodError",
     "evalue": "MethodError: no method matching dual(::Array{ConstraintRef{Model,MathOptInterface.ConstraintIndex{MathOptInterface.ScalarAffineFunction{Float64},MathOptInterface.LessThan{Float64}},ScalarShape},1})\nClosest candidates are:\n  dual(!Matched::ConstraintRef{Model,NonlinearConstraintIndex,Shape} where Shape<:AbstractShape) at /home/lcd/.julia/packages/JuMP/jnmGG/src/nlp.jl:162\n  dual(!Matched::ConstraintRef{Model,#s1044,Shape} where Shape<:AbstractShape where #s1044<:MathOptInterface.ConstraintIndex) at /home/lcd/.julia/packages/JuMP/jnmGG/src/constraints.jl:480",
     "output_type": "error",
     "traceback": [
      "MethodError: no method matching dual(::Array{ConstraintRef{Model,MathOptInterface.ConstraintIndex{MathOptInterface.ScalarAffineFunction{Float64},MathOptInterface.LessThan{Float64}},ScalarShape},1})\nClosest candidates are:\n  dual(!Matched::ConstraintRef{Model,NonlinearConstraintIndex,Shape} where Shape<:AbstractShape) at /home/lcd/.julia/packages/JuMP/jnmGG/src/nlp.jl:162\n  dual(!Matched::ConstraintRef{Model,#s1044,Shape} where Shape<:AbstractShape where #s1044<:MathOptInterface.ConstraintIndex) at /home/lcd/.julia/packages/JuMP/jnmGG/src/constraints.jl:480",
      "",
      "Stacktrace:",
      " [1] top-level scope at In[313]:1"
     ]
    }
   ],
   "source": [
    "shadow_prices = JuMP.dual([assembly, polish, pack])"
   ]
  },
  {
   "cell_type": "markdown",
   "metadata": {},
   "source": [
    "#### Current Values\n",
    "\n",
    "The \"Objective Coefficient\" and \"Constraint R. H. Side\" columns simply contain the values of $c$ and $b$, respectively:"
   ]
  },
  {
   "cell_type": "code",
   "execution_count": 314,
   "metadata": {},
   "outputs": [
    {
     "data": {
      "text/plain": [
       "Dict{Int64,Float64} with 4 entries:\n",
       "  4 => 4.5\n",
       "  2 => 2.5\n",
       "  3 => 3.0\n",
       "  1 => 1.5"
      ]
     },
     "execution_count": 314,
     "metadata": {},
     "output_type": "execute_result"
    }
   ],
   "source": [
    "obj_coeff = c"
   ]
  },
  {
   "cell_type": "code",
   "execution_count": 274,
   "metadata": {},
   "outputs": [
    {
     "data": {
      "text/plain": [
       "Dict{Int64,Int64} with 3 entries:\n",
       "  2 => 50000\n",
       "  3 => 60000\n",
       "  1 => 100000"
      ]
     },
     "execution_count": 274,
     "metadata": {},
     "output_type": "execute_result"
    }
   ],
   "source": [
    "con_rhs = b"
   ]
  },
  {
   "cell_type": "markdown",
   "metadata": {},
   "source": [
    "#### Allowable Increase/Decrease\n",
    "\n",
    "We now want to retrieve the range of parameter values for which the optimal basis does not change. There are multiple ways to do this.\n",
    "\n",
    "One approach is to get the optimal basis using the `MathProgBase.getbasis()` function, and this can then be used to calculate the allowable ranges of increase and decrease using standard linear programming theory of sensitivity analysis.\n",
    "\n",
    "Alternatively, some solvers (like Gurobi) provide this information directly without the need for us to compute it manually. In this case, we can access the data through the Gurobi API directly, which is what we will do in the rest of this example. "
   ]
  },
  {
   "cell_type": "code",
   "execution_count": 275,
   "metadata": {},
   "outputs": [
    {
     "ename": "UndefVarError",
     "evalue": "UndefVarError: getrawsolver not defined",
     "output_type": "error",
     "traceback": [
      "UndefVarError: getrawsolver not defined",
      "",
      "Stacktrace:",
      " [1] top-level scope at In[275]:3"
     ]
    }
   ],
   "source": [
    "# Import Gurobi so we can access the API\n",
    "import Gurobi\n",
    "\n",
    "# Get a reference to the internal Gurobi model so we can use the API\n",
    "g = getrawsolver(model)"
   ]
  },
  {
   "cell_type": "markdown",
   "metadata": {
    "collapsed": true
   },
   "source": [
    "We can now access the sensitivity information directly. To do this, we make use of the `get_dblattrarray()` function from [Gurobi.jl](https://github.com/JuliaOpt/Gurobi.jl/blob/master/src/grb_attrs.jl#L58), which allows us to retrieve [attributes from the Gurobi API](http://www.gurobi.com/documentation/6.5/refman/attributes.html) that are arrays of floating point values. \n",
    "\n",
    "When calling `get_dblattrarray()`, we have to specify the internal Gurobi model, the name of the attribute we want to retrieve, the index at which to starting reading from the array, and the number of values to read.\n",
    "\n",
    "In our case, we use the `SARHSLow` and `SARHSUp` attributes to get the lower and upper bounds on the RHS values, and in each case we start at the first value and read in a total of $m$ values. Similarly, we use `SAObjLow` and `SAObjUp` to get the lower and upper bounds for the objective coefficients, and in this case we read in all $n$ values."
   ]
  },
  {
   "cell_type": "code",
   "execution_count": 276,
   "metadata": {},
   "outputs": [
    {
     "ename": "UndefVarError",
     "evalue": "UndefVarError: g not defined",
     "output_type": "error",
     "traceback": [
      "UndefVarError: g not defined",
      "",
      "Stacktrace:",
      " [1] top-level scope at In[276]:1"
     ]
    }
   ],
   "source": [
    "# RHS value lower and upper bounds\n",
    "rhs_lb = Gurobi.get_dblattrarray(g, \"SARHSLow\", 1, m)\n",
    "rhs_ub = Gurobi.get_dblattrarray(g, \"SARHSUp\", 1, m)\n",
    "@show rhs_lb\n",
    "@show rhs_ub\n",
    "\n",
    "# Objective coefficient lower and upper bounds\n",
    "obj_lb = Gurobi.get_dblattrarray(g, \"SAObjLow\", 1, n)\n",
    "obj_ub = Gurobi.get_dblattrarray(g, \"SAObjUp\", 1, n)\n",
    "@show obj_lb\n",
    "@show obj_ub;"
   ]
  },
  {
   "cell_type": "markdown",
   "metadata": {},
   "source": [
    "The order of values in these arrays is not necessarily obvious in larger problems, and generally we do not know the order in which the information is returned by Gurobi. We can use the `getLinearIndex()` function on our variables and constraints to find their position in these arrays:"
   ]
  },
  {
   "cell_type": "code",
   "execution_count": 277,
   "metadata": {},
   "outputs": [
    {
     "ename": "UndefVarError",
     "evalue": "UndefVarError: linearindex not defined",
     "output_type": "error",
     "traceback": [
      "UndefVarError: linearindex not defined",
      "",
      "Stacktrace:",
      " [1] top-level scope at In[277]:1"
     ]
    }
   ],
   "source": [
    "x_order = map(linearindex, x)"
   ]
  },
  {
   "cell_type": "code",
   "execution_count": 278,
   "metadata": {},
   "outputs": [
    {
     "ename": "UndefVarError",
     "evalue": "UndefVarError: linearindex not defined",
     "output_type": "error",
     "traceback": [
      "UndefVarError: linearindex not defined",
      "",
      "Stacktrace:",
      " [1] top-level scope at In[278]:1"
     ]
    }
   ],
   "source": [
    "con_order = map(linearindex, [assembly, polish, pack])"
   ]
  },
  {
   "cell_type": "markdown",
   "metadata": {},
   "source": [
    "We see that the variables and constraints are already ordered for us, but this isn't true all the time, so it pays to always rearrange the arrays according to this ordering in case the order is different"
   ]
  },
  {
   "cell_type": "code",
   "execution_count": 279,
   "metadata": {},
   "outputs": [
    {
     "ename": "UndefVarError",
     "evalue": "UndefVarError: rhs_lb not defined",
     "output_type": "error",
     "traceback": [
      "UndefVarError: rhs_lb not defined",
      "",
      "Stacktrace:",
      " [1] top-level scope at In[279]:1"
     ]
    }
   ],
   "source": [
    "rhs_lb_sorted = rhs_lb[con_order];\n",
    "rhs_ub_sorted = rhs_ub[con_order];\n",
    "obj_lb_sorted = obj_lb[x_order];\n",
    "obj_ub_sorted = obj_ub[x_order];"
   ]
  },
  {
   "cell_type": "markdown",
   "metadata": {},
   "source": [
    "Now, we can use these lower and upper bounds to obtain the allowable increase and decrease on each objective coefficient and RHS value:"
   ]
  },
  {
   "cell_type": "code",
   "execution_count": 280,
   "metadata": {},
   "outputs": [
    {
     "ename": "UndefVarError",
     "evalue": "UndefVarError: rhs_lb_sorted not defined",
     "output_type": "error",
     "traceback": [
      "UndefVarError: rhs_lb_sorted not defined",
      "",
      "Stacktrace:",
      " [1] top-level scope at show.jl:555",
      " [2] top-level scope at In[280]:1"
     ]
    }
   ],
   "source": [
    "@show rhs_dec = con_rhs - rhs_lb_sorted;\n",
    "@show rhs_inc = rhs_ub_sorted - con_rhs;\n",
    "\n",
    "@show obj_dec = obj_coeff - obj_lb_sorted;\n",
    "@show obj_inc = obj_ub_sorted - obj_coeff;"
   ]
  },
  {
   "cell_type": "markdown",
   "metadata": {},
   "source": [
    "### Final Sensitivity Table\n",
    "\n",
    "We can put all of this together to form the final Sensitivity Report tables.\n",
    "\n",
    "First, the variables:"
   ]
  },
  {
   "cell_type": "code",
   "execution_count": 281,
   "metadata": {},
   "outputs": [
    {
     "ename": "UndefVarError",
     "evalue": "UndefVarError: obj_inc not defined",
     "output_type": "error",
     "traceback": [
      "UndefVarError: obj_inc not defined",
      "",
      "Stacktrace:",
      " [1] top-level scope at In[281]:1"
     ]
    }
   ],
   "source": [
    "var_sensitivity = [x_final red_costs obj_coeff obj_inc obj_dec]"
   ]
  },
  {
   "cell_type": "markdown",
   "metadata": {},
   "source": [
    "And similarly for the constraints:"
   ]
  },
  {
   "cell_type": "code",
   "execution_count": 282,
   "metadata": {},
   "outputs": [
    {
     "ename": "UndefVarError",
     "evalue": "UndefVarError: shadow_prices not defined",
     "output_type": "error",
     "traceback": [
      "UndefVarError: shadow_prices not defined",
      "",
      "Stacktrace:",
      " [1] top-level scope at In[282]:1"
     ]
    }
   ],
   "source": [
    "con_sensitivity = [con_final shadow_prices con_rhs rhs_inc rhs_dec]"
   ]
  },
  {
   "cell_type": "markdown",
   "metadata": {},
   "source": [
    "This leads to the following tables, which we see are identical to those produced by Excel Solver:\n",
    "\n",
    "**Variables:**\n",
    "\n",
    "| Name  | Final Value | Red. Cost | Obj. Coeff | Allow. Inc. | Allow. Dec. |\n",
    "| :---: | ----------: | --------: | ---------: | ----------: | ----------: |\n",
    "| $x_1$ | 0           | -1.5      | 1.5        | 1.50        | 1E+100      |\n",
    "| $x_2$ | 16000       | 0.0       | 2.5        | 2.00        | 0.1429      |\n",
    "| $x_3$ | 6000        | 0.0       | 3.0        | 0.75        | 0.5         |\n",
    "| $x_4$ | 0           | -0.2      | 4.5        | 0.20        | 1E+100      |\n",
    "\n",
    "**Constraints:**\n",
    "\n",
    "| Name     | Final Value | Shadow Price | RHS    | Allow. Inc. | Allow. Dec. |\n",
    "| :------: | ----------: | -----------: | -----: | ----------: | ----------: |\n",
    "| Assembly | 82000       | 0.0          | 100000 | 1E+100      | 18000       |\n",
    "| Polish   | 50000       | 0.8          | 50000  | 40000       | 10000       |\n",
    "| Pack     | 60000       | 0.3          | 60000  | 15000       | 26667       |\n"
   ]
  }
 ],
 "metadata": {
  "kernelspec": {
   "display_name": "Julia 1.0.3",
   "language": "julia",
   "name": "julia-1.0"
  },
  "language_info": {
   "file_extension": ".jl",
   "mimetype": "application/julia",
   "name": "julia",
   "version": "1.0.3"
  }
 },
 "nbformat": 4,
 "nbformat_minor": 1
}
